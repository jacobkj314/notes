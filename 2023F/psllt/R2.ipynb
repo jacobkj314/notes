{
 "cells": [
  {
   "cell_type": "code",
   "execution_count": 1,
   "metadata": {},
   "outputs": [],
   "source": [
    "def r2(a,c, b=2):\n",
    "    \n",
    "    num_fully_correct_bundles = c\n",
    "\n",
    "    num_correct_instances = b * a\n",
    "    num_consistent_instances = b * c\n",
    "    num_nonconsistent_correct_instances = num_correct_instances - num_consistent_instances\n",
    "    num_half_correct_bundles = num_nonconsistent_correct_instances\n",
    "\n",
    "    num_partially_correct_bundles = num_fully_correct_bundles + num_half_correct_bundles\n",
    "\n",
    "    return num_fully_correct_bundles / num_partially_correct_bundles\n"
   ]
  },
  {
   "cell_type": "code",
   "execution_count": null,
   "metadata": {},
   "outputs": [],
   "source": [
    "r2 = lambda a,c : c / (2*a - c)"
   ]
  },
  {
   "cell_type": "markdown",
   "metadata": {},
   "source": [
    "Gardner 2020"
   ]
  },
  {
   "cell_type": "code",
   "execution_count": 2,
   "metadata": {},
   "outputs": [
    {
     "data": {
      "text/plain": [
       "0.18542336548767419"
      ]
     },
     "execution_count": 2,
     "metadata": {},
     "output_type": "execute_result"
    }
   ],
   "source": [
    "r2(55.3, 17.3)"
   ]
  },
  {
   "cell_type": "code",
   "execution_count": 3,
   "metadata": {},
   "outputs": [
    {
     "data": {
      "text/plain": [
       "0.8106995884773662"
      ]
     },
     "execution_count": 3,
     "metadata": {},
     "output_type": "execute_result"
    }
   ],
   "source": [
    "r2(88, 78.8)"
   ]
  },
  {
   "cell_type": "code",
   "execution_count": 4,
   "metadata": {},
   "outputs": [
    {
     "data": {
      "text/plain": [
       "0.281150159744409"
      ]
     },
     "execution_count": 4,
     "metadata": {},
     "output_type": "execute_result"
    }
   ],
   "source": [
    "r2(40.1, 17.6)"
   ]
  },
  {
   "cell_type": "code",
   "execution_count": 5,
   "metadata": {},
   "outputs": [
    {
     "data": {
      "text/plain": [
       "0.18181818181818182"
      ]
     },
     "execution_count": 5,
     "metadata": {},
     "output_type": "execute_result"
    }
   ],
   "source": [
    "r2(26, 8)"
   ]
  },
  {
   "cell_type": "markdown",
   "metadata": {},
   "source": [
    "Dua et al"
   ]
  },
  {
   "cell_type": "code",
   "execution_count": 6,
   "metadata": {},
   "outputs": [
    {
     "data": {
      "text/plain": [
       "0.656998738965952"
      ]
     },
     "execution_count": 6,
     "metadata": {},
     "output_type": "execute_result"
    }
   ],
   "source": [
    "r2(65.7, 52.1)"
   ]
  },
  {
   "cell_type": "code",
   "execution_count": 7,
   "metadata": {},
   "outputs": [
    {
     "data": {
      "text/plain": [
       "0.6864197530864198"
      ]
     },
     "execution_count": 7,
     "metadata": {},
     "output_type": "execute_result"
    }
   ],
   "source": [
    "r2(68.3, 55.6)"
   ]
  },
  {
   "cell_type": "code",
   "execution_count": 8,
   "metadata": {},
   "outputs": [
    {
     "data": {
      "text/plain": [
       "0.7310734463276838"
      ]
     },
     "execution_count": 8,
     "metadata": {},
     "output_type": "execute_result"
    }
   ],
   "source": [
    "r2(76.6, 64.7)"
   ]
  },
  {
   "cell_type": "markdown",
   "metadata": {},
   "source": [
    "Us (moving down rows, column by column, in table 5)"
   ]
  },
  {
   "cell_type": "code",
   "execution_count": 16,
   "metadata": {},
   "outputs": [
    {
     "name": "stdout",
     "output_type": "stream",
     "text": [
      "67.22\t27.04\t0.2517690875232774\n",
      "67.35\t28.57\t0.2691981532083294\n",
      "67.73\t28.57\t0.26728412386565625\n",
      "68.24\t30.1\t0.2829479225418312\n",
      "75.64\t44.39\t0.41528674338104593\n",
      "76.53\t45.92\t0.4285980959492253\n",
      "66.33\t58.16\t0.7806711409395972\n",
      "67.35\t61.22\t0.8331518780620578\n",
      "68.88\t63.78\t0.8621248986212491\n",
      "68.37\t63.27\t0.86116782360147\n",
      "76.28\t71.43\t0.8804388019228401\n",
      "77.55\t74.47\t0.9236016371077763\n",
      "66.84\t42.86\t0.4719224840343536\n",
      "64.8\t40.31\t0.4514503303841416\n",
      "66.33\t42.86\t0.47728285077951005\n",
      "66.58\t43.37\t0.4830159260496715\n",
      "74.23\t56.12\t0.6077539527831926\n",
      "76.02\t58.67\t0.6283602870300954\n",
      "67.09\t42.35\t0.46117826418381785\n",
      "66.84\t43.37\t0.48023474698261537\n",
      "68.11\t44.39\t0.48339322661439615\n",
      "68.37\t44.9\t0.4888937282229965\n",
      "76.79\t60.71\t0.6537094863788091\n",
      "78.57\t63.78\t0.6831619537275065\n"
     ]
    }
   ],
   "source": [
    "for a,c in zip  (\n",
    "                    [\n",
    "                        67.22, 67.35, 67.73, 68.24, 75.64, 76.53, \n",
    "                        66.33, 67.35, 68.88, 68.37, 76.28, 77.55,\n",
    "                        66.84, 64.80, 66.33, 66.58, 74.23, 76.02,\n",
    "                        67.09, 66.84, 68.11, 68.37, 76.79, 78.57\n",
    "                    ],\n",
    "                    [\n",
    "                        27.04, 28.57, 28.57, 30.10, 44.39, 45.92,\n",
    "                        58.16, 61.22, 63.78, 63.27, 71.43, 74.47,\n",
    "                        42.86, 40.31, 42.86, 43.37, 56.12, 58.67,\n",
    "                        42.35, 43.37, 44.39, 44.90, 60.71, 63.78\n",
    "                    ]\n",
    "                ):\n",
    "    print(f'{a}\\t{c}\\t{r2(a,c)}')"
   ]
  },
  {
   "cell_type": "code",
   "execution_count": 10,
   "metadata": {},
   "outputs": [
    {
     "data": {
      "text/plain": [
       "0.4830159260496715"
      ]
     },
     "execution_count": 10,
     "metadata": {},
     "output_type": "execute_result"
    }
   ],
   "source": [
    "r2(66.58, 43.37)"
   ]
  },
  {
   "cell_type": "code",
   "execution_count": null,
   "metadata": {},
   "outputs": [],
   "source": []
  }
 ],
 "metadata": {
  "kernelspec": {
   "display_name": "Python 3",
   "language": "python",
   "name": "python3"
  },
  "language_info": {
   "codemirror_mode": {
    "name": "ipython",
    "version": 3
   },
   "file_extension": ".py",
   "mimetype": "text/x-python",
   "name": "python",
   "nbconvert_exporter": "python",
   "pygments_lexer": "ipython3",
   "version": "3.10.12"
  }
 },
 "nbformat": 4,
 "nbformat_minor": 2
}
